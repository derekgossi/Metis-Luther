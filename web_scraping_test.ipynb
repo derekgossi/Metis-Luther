{
 "metadata": {
  "name": ""
 },
 "nbformat": 3,
 "nbformat_minor": 0,
 "worksheets": [
  {
   "cells": [
    {
     "cell_type": "code",
     "collapsed": false,
     "input": [
      "import urllib2\n",
      "from bs4 import BeautifulSoup\n",
      "\n",
      "url = \"http://boxofficemojo.com/movies/?page=main&id=biglebowski.htm\"\n",
      "page = urllib2.urlopen(url)\n",
      "soup = BeautifulSoup(page)\n",
      "#print soup.prettify()"
     ],
     "language": "python",
     "metadata": {},
     "outputs": [],
     "prompt_number": 4
    },
    {
     "cell_type": "code",
     "collapsed": false,
     "input": [
      "soup.find('a')"
     ],
     "language": "python",
     "metadata": {},
     "outputs": [
      {
       "metadata": {},
       "output_type": "pyout",
       "prompt_number": 5,
       "text": [
        "<a href=\"/goto.php?a=5\" target=\"4\"><font face=\"Verdana\" size=\"3\"><b>'Sniper' opens to $105.3 million over four-day weekend... &gt;</b></font><br/></a>"
       ]
      }
     ],
     "prompt_number": 5
    },
    {
     "cell_type": "code",
     "collapsed": false,
     "input": [
      "# for link in soup.find_all('a'):\n",
      "#     print link\n",
      "\n",
      "soup.find('a')['href']"
     ],
     "language": "python",
     "metadata": {},
     "outputs": [
      {
       "metadata": {},
       "output_type": "pyout",
       "prompt_number": 8,
       "text": [
        "'/goto.php?a=5'"
       ]
      }
     ],
     "prompt_number": 8
    },
    {
     "cell_type": "code",
     "collapsed": false,
     "input": [
      "# for element in soup.find_all(class_ = \"mp_box_content\"):\n",
      "#     print element"
     ],
     "language": "python",
     "metadata": {},
     "outputs": [],
     "prompt_number": 10
    },
    {
     "cell_type": "code",
     "collapsed": false,
     "input": [
      "print soup.find(class_ = \"mp_box_content\").find_all('td')"
     ],
     "language": "python",
     "metadata": {},
     "outputs": [
      {
       "output_type": "stream",
       "stream": "stdout",
       "text": [
        "[<td width=\"40%\"><b>Domestic:</b></td>, <td align=\"right\" width=\"35%\">\u00a0<b>$17,451,873</b></td>]\n"
       ]
      }
     ],
     "prompt_number": 12
    },
    {
     "cell_type": "code",
     "collapsed": false,
     "input": [
      "#print soup.find(id=\"hp_footer\")"
     ],
     "language": "python",
     "metadata": {},
     "outputs": [],
     "prompt_number": 14
    },
    {
     "cell_type": "code",
     "collapsed": false,
     "input": [
      "## Movie title, total domestic gross, runtime, rating\n",
      "\n",
      "# Movie title\n",
      "title_string = soup.find('title').text\n",
      "title = title_string.split('(')[0]\n",
      "print title\n",
      "\n",
      "# Total domestic gross\n",
      "#print soup.find(text=\"Domestic Total Gross: \")\n",
      "\n",
      "import re\n",
      "dtg_string = soup.find(text=re.compile(\"Domestic Total\")).findNextSibling().text\n",
      "dtg = int(dtg_string.replace('$','').replace(',',''))\n",
      "print dtg"
     ],
     "language": "python",
     "metadata": {},
     "outputs": [
      {
       "output_type": "stream",
       "stream": "stdout",
       "text": [
        "The Big Lebowski \n",
        "17451873\n"
       ]
      }
     ],
     "prompt_number": 35
    },
    {
     "cell_type": "code",
     "collapsed": false,
     "input": [
      "def get_movie_value(soup, field_name):\n",
      "    obj = soup.find(text=re.compile(field_name))\n",
      "    if not obj:\n",
      "        return None\n",
      "    next_sibling = obj.findNextSibling()\n",
      "    if next_sibling:\n",
      "        return next_sibling.text\n",
      "    else:\n",
      "        return None"
     ],
     "language": "python",
     "metadata": {},
     "outputs": [],
     "prompt_number": 30
    },
    {
     "cell_type": "code",
     "collapsed": false,
     "input": [
      "# Runtime\n",
      "runtime = get_movie_value(soup, \"Runtime\")\n",
      "print runtime"
     ],
     "language": "python",
     "metadata": {},
     "outputs": [
      {
       "output_type": "stream",
       "stream": "stdout",
       "text": [
        "1 hrs. 57 min.\n"
       ]
      }
     ],
     "prompt_number": 33
    },
    {
     "cell_type": "code",
     "collapsed": false,
     "input": [
      "# Rating\n",
      "rating = get_movie_value(soup, \"Rating\")\n",
      "print rating"
     ],
     "language": "python",
     "metadata": {},
     "outputs": [
      {
       "output_type": "stream",
       "stream": "stdout",
       "text": [
        "R\n"
       ]
      }
     ],
     "prompt_number": 34
    },
    {
     "cell_type": "code",
     "collapsed": false,
     "input": [
      "## Some helpful helper methods for parsing the strings\n",
      "import dateutil.parser\n",
      "\n",
      "def to_date(datestring):\n",
      "    date = dateutil.parser.parse(datestring)\n",
      "    return date\n",
      "\n",
      "def money_to_int(moneystring):\n",
      "    return moneystring.replace('$','').replace(',','')\n",
      "\n",
      "def runtime_to_min(runtimestring):\n",
      "    runtime = runtimestring.split()\n",
      "    try:\n",
      "        minutes = int(runtime[0])*60 + int(runtime[2])\n",
      "        return minutes\n",
      "    except:\n",
      "        return None\n"
     ],
     "language": "python",
     "metadata": {},
     "outputs": [],
     "prompt_number": 36
    },
    {
     "cell_type": "code",
     "collapsed": false,
     "input": [
      "from pprint import pprint\n",
      "import pandas as pd\n",
      "\n",
      "raw_release_date = get_movie_value(soup, 'Release Date')\n",
      "release_date = to_date(raw_release_date)\n",
      "print release_date\n",
      "\n",
      "raw_dtg = get_movie_value(soup, 'Domestic Total')\n",
      "dtg = money_to_int(raw_dtg)\n",
      "print dtg\n",
      "\n",
      "raw_runtime = get_movie_value(soup, 'Runtime')\n",
      "runtime = runtime_to_min(raw_runtime)\n",
      "print runtime\n",
      "\n",
      "headers = ['movie_title',\n",
      "           'domestic_total_gross',\n",
      "           'release_date',\n",
      "           'runtime_mins',\n",
      "           'rating']\n",
      "\n",
      "movie_data = []\n",
      "movie_dict = dict(zip(headers, [title,\n",
      "                           dtg,\n",
      "                           release_date,\n",
      "                           runtime,\n",
      "                           rating]))\n",
      "\n",
      "\n",
      "movie_data.append(movie_dict)\n",
      "pprint(movie_data)"
     ],
     "language": "python",
     "metadata": {},
     "outputs": [
      {
       "output_type": "stream",
       "stream": "stdout",
       "text": [
        "1998-03-06 00:00:00\n",
        "17451873\n",
        "117\n",
        "[{'domestic_total_gross': u'17451873',\n",
        "  'movie_title': u'The Big Lebowski ',\n",
        "  'rating': u'R',\n",
        "  'release_date': datetime.datetime(1998, 3, 6, 0, 0),\n",
        "  'runtime_mins': 117}]\n"
       ]
      }
     ],
     "prompt_number": 51
    },
    {
     "cell_type": "code",
     "collapsed": false,
     "input": [
      "url = \"http://boxofficemojo.com/oscar/\"\n",
      "page = urllib2.urlopen(url)\n",
      "soup = BeautifulSoup(page)"
     ],
     "language": "python",
     "metadata": {},
     "outputs": [],
     "prompt_number": 52
    },
    {
     "cell_type": "code",
     "collapsed": false,
     "input": [
      "# def getTableRowOscars(soup):\n",
      "#     soup.find('tr')\n",
      "#     try:\n",
      "\n",
      "# Find first row of table\n",
      "for i in range(50):\n",
      "    try:\n",
      "        table_row_oscars = [soup.find_all('tr')[i].find_all('td')[j].text for j in range(7)]\n",
      "        if table_row_oscars[0] == 'Year':\n",
      "            start_row = i\n",
      "            break\n",
      "    except:\n",
      "        continue\n",
      "\n",
      "print start_row"
     ],
     "language": "python",
     "metadata": {},
     "outputs": [
      {
       "output_type": "stream",
       "stream": "stdout",
       "text": [
        "3\n"
       ]
      }
     ],
     "prompt_number": 79
    },
    {
     "cell_type": "code",
     "collapsed": false,
     "input": [],
     "language": "python",
     "metadata": {},
     "outputs": []
    }
   ],
   "metadata": {}
  }
 ]
}